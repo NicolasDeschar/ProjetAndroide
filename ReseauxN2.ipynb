{
 "cells": [
  {
   "cell_type": "code",
   "execution_count": 2,
   "metadata": {},
   "outputs": [],
   "source": [
    "import numpy as np\n",
    "import torch\n",
    "import matplotlib.pyplot as plt\n",
    "from torchvision.datasets import ImageFolder\n",
    "from torch.utils.data import DataLoader\n",
    "from torch.utils.data import DataLoader\n",
    "\n",
    "from torchvision import datasets, transforms\n",
    "import torch.nn.functional as F\n",
    "from torch.autograd import Function\n",
    "import matplotlib.pyplot as plt"
   ]
  },
  {
   "cell_type": "code",
   "execution_count": 127,
   "metadata": {},
   "outputs": [],
   "source": [
    "from PIL import Image\n",
    "from pylab import *\n",
    "from resizeimage import resizeimage\n",
    "import png\n",
    "import os"
   ]
  },
  {
   "cell_type": "code",
   "execution_count": 3,
   "metadata": {},
   "outputs": [],
   "source": [
    "def unpickle(file):\n",
    "    import pickle\n",
    "    with open(file, 'rb') as fo:\n",
    "        dict = pickle.load(fo, encoding='bytes')\n",
    "    return dict"
   ]
  },
  {
   "cell_type": "code",
   "execution_count": 5,
   "metadata": {},
   "outputs": [],
   "source": [
    "class10=unpickle(\"cifar-10-batches-py/data_batch_4\")"
   ]
  },
  {
   "cell_type": "code",
   "execution_count": 120,
   "metadata": {},
   "outputs": [],
   "source": [
    "class10test=unpickle(\"cifar-10-batches-py/test_batch\")"
   ]
  },
  {
   "cell_type": "code",
   "execution_count": 124,
   "metadata": {},
   "outputs": [],
   "source": [
    "for i in range(10000):\n",
    "    im = Image.fromarray(np.array(class10[b'data'][i].reshape((3,32*32)).T.reshape(32,32,3))).convert('L')\n",
    "    cover=resizeimage.resize_cover(im, [28, 28])\n",
    "    cover.save(\"mnist_png/training/10/\"+str(class10[b'filenames'][i])[2:-1])\n",
    "\n",
    "for i in range(0,10000):\n",
    "    im = Image.fromarray(np.array(class10test[b'data'][i].reshape((3,32*32)).T.reshape(32,32,3))).convert('L')\n",
    "    cover=resizeimage.resize_cover(im, [28, 28])\n",
    "    cover.save(\"mnist_png/testing/10/\"+str(class10test[b'filenames'][i])[2:-1])"
   ]
  },
  {
   "cell_type": "code",
   "execution_count": 95,
   "metadata": {},
   "outputs": [
    {
     "data": {
      "text/plain": [
       "<matplotlib.image.AxesImage at 0x17180c12a90>"
      ]
     },
     "execution_count": 95,
     "metadata": {},
     "output_type": "execute_result"
    },
    {
     "data": {
      "image/png": "[encoded data removed]",
      "text/plain": [
       "<Figure size 432x288 with 1 Axes>"
      ]
     },
     "metadata": {
      "needs_background": "light"
     },
     "output_type": "display_data"
    }
   ],
   "source": [
    "a=class10[b'data'][0].reshape((3,32*32))\n",
    "plt.imshow(class10[b'data'][5].reshape((3,32*32)).T.reshape(32,32,3))"
   ]
  },
  {
   "cell_type": "code",
   "execution_count": 268,
   "metadata": {},
   "outputs": [],
   "source": [
    "transform = transforms.Compose([transforms.ToTensor(), transforms.Normalize((0.1307,), (0.3081,))])\n",
    "batch_size = 32\n",
    "train_loader = torch.utils.data.DataLoader(datasets.MNIST('../data', train=True, download=True, transform=transform), batch_size=batch_size, shuffle=False)\n",
    "test_loader = torch.utils.data.DataLoader(datasets.MNIST('../data', train=False, download=True, transform=transform), batch_size=batch_size, shuffle=False)"
   ]
  },
  {
   "cell_type": "code",
   "execution_count": 419,
   "metadata": {},
   "outputs": [],
   "source": [
    "root_dir=\"mnist_png\"\n",
    "transform2=transforms.Compose([transforms.Grayscale(1),transforms.ToTensor(), transforms.Normalize((0.1307,), (0.3081,))])"
   ]
  },
  {
   "cell_type": "code",
   "execution_count": 422,
   "metadata": {},
   "outputs": [],
   "source": [
    "train_data=ImageFolder(root=os.path.join(root_dir,\"training\"),transform=transform2)\n",
    "test_data=ImageFolder(root=os.path.join(root_dir,\"testing\"),transform=transform2)"
   ]
  },
  {
   "cell_type": "code",
   "execution_count": 423,
   "metadata": {},
   "outputs": [
    {
     "data": {
      "text/plain": [
       "(70000, 20000)"
      ]
     },
     "execution_count": 423,
     "metadata": {},
     "output_type": "execute_result"
    }
   ],
   "source": [
    "len(train_data),len(test_data)"
   ]
  },
  {
   "cell_type": "code",
   "execution_count": 424,
   "metadata": {},
   "outputs": [
    {
     "data": {
      "text/plain": [
       "(['0', '1', '2', '3', '4', '5', '6', '7', '8', '9', 'tout'],\n",
       " ['0', '1', '2', '3', '4', '5', '6', '7', '8', '9', 'tout'])"
      ]
     },
     "execution_count": 424,
     "metadata": {},
     "output_type": "execute_result"
    }
   ],
   "source": [
    "train_data.classes,test_data.classes"
   ]
  },
  {
   "cell_type": "code",
   "execution_count": 145,
   "metadata": {},
   "outputs": [],
   "source": [
    "def test(weights, test_loader):\n",
    "    test_size = len(test_loader.dataset)\n",
    "    correct = 0\n",
    "\n",
    "    for batch_idx, (data, target) in enumerate(test_loader):\n",
    "        data = data.view((-1, 28*28))\n",
    "        outputs = torch.matmul(data, weights)\n",
    "        softmax = F.softmax(outputs, dim=1)\n",
    "        pred = softmax.argmax(dim=1, keepdim=True)\n",
    "        n_correct = pred.eq(target.view_as(pred)).sum().item()\n",
    "        correct += n_correct\n",
    "    acc = correct / test_size\n",
    "    print(\" Accuracy on test set\", acc)\n",
    "    return"
   ]
  },
  {
   "cell_type": "code",
   "execution_count": 425,
   "metadata": {},
   "outputs": [],
   "source": [
    "batch_size=50\n",
    "train11_loader=torch.utils.data.DataLoader(train_data, batch_size=batch_size, shuffle=True)\n",
    "test11_loader =torch.utils.data.DataLoader(test_data, batch_size=batch_size, shuffle=True)\n"
   ]
  },
  {
   "cell_type": "code",
   "execution_count": 283,
   "metadata": {},
   "outputs": [
    {
     "name": "stdout",
     "output_type": "stream",
     "text": [
      "tensor(10)\n"
     ]
    },
    {
     "data": {
      "image/png": "[encoded data removed]",
      "text/plain": [
       "<Figure size 432x288 with 1 Axes>"
      ]
     },
     "metadata": {
      "needs_background": "light"
     },
     "output_type": "display_data"
    }
   ],
   "source": [
    "\n",
    "for i in train11_loader:\n",
    "    plt.imshow(i[0][0][1],cmap='gray')\n",
    "    print(i[1][0])\n",
    "    break\n",
    "#int(train_data.classes[i[1][0]])\n"
   ]
  },
  {
   "cell_type": "code",
   "execution_count": 275,
   "metadata": {},
   "outputs": [
    {
     "data": {
      "text/plain": [
       "<matplotlib.image.AxesImage at 0x17191cdca60>"
      ]
     },
     "execution_count": 275,
     "metadata": {},
     "output_type": "execute_result"
    },
    {
     "data": {
      "image/png": "[encoded data removed]",
      "text/plain": [
       "<Figure size 432x288 with 1 Axes>"
      ]
     },
     "metadata": {
      "needs_background": "light"
     },
     "output_type": "display_data"
    }
   ],
   "source": [
    "plt.imshow(i[0][0][2],cmap='gray')"
   ]
  },
  {
   "cell_type": "code",
   "execution_count": 286,
   "metadata": {},
   "outputs": [],
   "source": [
    "count_dict={0:0, 1:0, 2:0 ,3:0, 4:0, 5:0, 6:0,7:0,8:0,9:0,10:0}"
   ]
  },
  {
   "cell_type": "code",
   "execution_count": 291,
   "metadata": {},
   "outputs": [],
   "source": [
    "def countDict(data,count_dict):\n",
    "    for d in data:\n",
    "        x,y=d\n",
    "        for i in y:\n",
    "            count_dict[int(i)]+=1\n",
    "        break\n",
    "        \n",
    "        "
   ]
  },
  {
   "cell_type": "code",
   "execution_count": 292,
   "metadata": {},
   "outputs": [
    {
     "data": {
      "text/plain": [
       "{0: 3, 1: 4, 2: 4, 3: 3, 4: 4, 5: 3, 6: 9, 7: 8, 8: 2, 9: 4, 10: 6}"
      ]
     },
     "execution_count": 292,
     "metadata": {},
     "output_type": "execute_result"
    }
   ],
   "source": [
    "countDict(train11_loader,count_dict)\n",
    "count_dict"
   ]
  },
  {
   "cell_type": "code",
   "execution_count": 295,
   "metadata": {},
   "outputs": [
    {
     "name": "stdout",
     "output_type": "stream",
     "text": [
      "0:3\n",
      "1:4\n",
      "2:4\n",
      "3:3\n",
      "4:4\n",
      "5:3\n",
      "6:9\n",
      "7:8\n",
      "8:2\n",
      "9:4\n",
      "10:6\n"
     ]
    }
   ],
   "source": [
    "for i in count_dict:\n",
    "    print(f\"{i}:{count_dict[i]}\")"
   ]
  },
  {
   "cell_type": "code",
   "execution_count": 301,
   "metadata": {},
   "outputs": [
    {
     "data": {
      "text/plain": [
       "[2, 2, 2]"
      ]
     },
     "execution_count": 301,
     "metadata": {},
     "output_type": "execute_result"
    }
   ],
   "source": []
  },
  {
   "cell_type": "code",
   "execution_count": 471,
   "metadata": {},
   "outputs": [],
   "source": [
    "class RN(torch.nn.Module):\n",
    "    def __init__(self,nbHiddenLayers,nbNeuronsPerLayer,n_in=28*28,n_out=11,):\n",
    "        super().__init__()\n",
    "        #fully connected layer\n",
    "        #self.fc1=torch.nn.Linear(28*28,nbNeuronsPerLayer)\n",
    "        self.dim_in = n_in\n",
    "        self.dim_out = n_out\n",
    "        self.n_hidden_layers=nbHiddenLayers\n",
    "        self.nbNPerLayer=nbNeuronsPerLayer\n",
    "        #self.fc=None\n",
    "        if(self.n_hidden_layers > 0):\n",
    "            self.fc1 = torch.nn.Linear(self.dim_in,self.nbNPerLayer,bias=True)# In -> first hidden\n",
    "             # In -> first hidden\n",
    "             # Hidden -> hidden\n",
    "            self.fc2=torch.nn.Linear(self.nbNPerLayer,self.nbNPerLayer,bias=True)\n",
    "            self.fc3=torch.nn.Linear(self.nbNPerLayer,self.nbNPerLayer,bias=True)\n",
    "            self.fc4=torch.nn.Linear(self.nbNPerLayer,self.dim_out,bias=True) # -> last hidden -> out\n",
    "        else:\n",
    "            self.fc1 = [torch.nn.Linear(self.dim_in,self.dim_out,bias=True)] # Single-layer perceptron\n",
    "    \n",
    "    def forward(self, x):\n",
    "        fc=[self.fc1,self.fc2,self.fc3,self.fc4]\n",
    "        for i in range(self.n_hidden_layers):\n",
    "            x=F.relu(fc[i](x))\n",
    "        x=fc[-1](x)\n",
    "        #return F.log_softmax(x,dim=1)\n",
    "        return F.softmax(x,dim=1)"
   ]
  },
  {
   "cell_type": "code",
   "execution_count": 472,
   "metadata": {},
   "outputs": [],
   "source": [
    "\n",
    "nbHiddenLayers = 2\n",
    "nbNeuronsPerLayer = 100\n",
    "myNN=RN(nbHiddenLayers,nbNeuronsPerLayer)"
   ]
  },
  {
   "cell_type": "code",
   "execution_count": 473,
   "metadata": {},
   "outputs": [
    {
     "name": "stdout",
     "output_type": "stream",
     "text": [
      "RN(\n",
      "  (fc1): Linear(in_features=784, out_features=100, bias=True)\n",
      "  (fc2): Linear(in_features=100, out_features=100, bias=True)\n",
      "  (fc3): Linear(in_features=100, out_features=100, bias=True)\n",
      "  (fc4): Linear(in_features=100, out_features=11, bias=True)\n",
      ")\n"
     ]
    }
   ],
   "source": [
    "X=torch.rand((28,28))\n",
    "output=myNN.forward(X.view(-1,28*28))\n",
    "print(myNN)"
   ]
  },
  {
   "cell_type": "code",
   "execution_count": 474,
   "metadata": {},
   "outputs": [],
   "source": [
    "import torch.optim\n",
    "optimizer=torch.optim.Adam(myNN.parameters(),lr=1e-3) #lr : learning rate"
   ]
  },
  {
   "cell_type": "code",
   "execution_count": 475,
   "metadata": {},
   "outputs": [
    {
     "name": "stdout",
     "output_type": "stream",
     "text": [
      "tensor(-0.9796, grad_fn=<NllLossBackward>)\n",
      "tensor(-0.8981, grad_fn=<NllLossBackward>)\n",
      "tensor(-0.9595, grad_fn=<NllLossBackward>)\n"
     ]
    }
   ],
   "source": [
    "for i in range(3):\n",
    "    for data in train11_loader:\n",
    "        x,y=data\n",
    "        #print(y[0]) donne la classe x[0]!=[1,28,28] mais [3,28,28] 3 fois la meme image\n",
    "        myNN.zero_grad() #\n",
    "        output=myNN(x.view(-1,28*28))\n",
    "        loss=F.nll_loss(output,y)\n",
    "        loss.backward()\n",
    "        optimizer.step()\n",
    "    print(loss)"
   ]
  },
  {
   "cell_type": "code",
   "execution_count": 476,
   "metadata": {},
   "outputs": [
    {
     "name": "stdout",
     "output_type": "stream",
     "text": [
      "Accuracy :  0.9611857142857143\n"
     ]
    }
   ],
   "source": [
    "correct =0\n",
    "total=0\n",
    "with torch.no_grad():\n",
    "    for data in train11_loader:\n",
    "        x,y=data\n",
    "        output=myNN(x.view(-1,28*28))\n",
    "        for i,img in enumerate(output):\n",
    "            if(torch.argmax(img)==y[i]):\n",
    "                correct+=1\n",
    "            total+=1\n",
    "print(\"Accuracy : \",correct/total)"
   ]
  },
  {
   "cell_type": "code",
   "execution_count": 477,
   "metadata": {},
   "outputs": [
    {
     "name": "stdout",
     "output_type": "stream",
     "text": [
      "Accuracy :  0.97335\n"
     ]
    }
   ],
   "source": [
    "correct =0\n",
    "total=0\n",
    "with torch.no_grad():\n",
    "    for data in test11_loader:\n",
    "        x,y=data\n",
    "        output=myNN(x.view(-1,28*28))\n",
    "        for i,img in enumerate(output):\n",
    "            if(torch.argmax(img)==y[i]):\n",
    "                correct+=1\n",
    "            total+=1\n",
    "print(\"Accuracy : \",correct/total)"
   ]
  },
  {
   "cell_type": "code",
   "execution_count": 478,
   "metadata": {},
   "outputs": [
    {
     "data": {
      "image/png": "[encoded data removed]",
      "text/plain": [
       "<Figure size 432x288 with 1 Axes>"
      ]
     },
     "metadata": {
      "needs_background": "light"
     },
     "output_type": "display_data"
    }
   ],
   "source": [
    "plt.imshow(x[49].view(28,28))\n",
    "plt.title(\"Predicted class {}\".format(y[49]))\n",
    "plt.show()"
   ]
  },
  {
   "cell_type": "code",
   "execution_count": 479,
   "metadata": {},
   "outputs": [
    {
     "data": {
      "text/plain": [
       "tensor(2)"
      ]
     },
     "execution_count": 479,
     "metadata": {},
     "output_type": "execute_result"
    }
   ],
   "source": [
    "torch.argmax(myNN(x[1].view(-1,28*28))[0])"
   ]
  },
  {
   "cell_type": "code",
   "execution_count": 482,
   "metadata": {},
   "outputs": [
    {
     "data": {
      "text/plain": [
       "tensor([3.1124e-29, 1.2090e-23, 1.0000e+00, 3.5779e-21, 0.0000e+00, 2.1288e-32,\n",
       "        5.9045e-29, 3.3963e-24, 6.2708e-23, 1.7128e-40, 4.1297e-24],\n",
       "       grad_fn=<SelectBackward>)"
      ]
     },
     "execution_count": 482,
     "metadata": {},
     "output_type": "execute_result"
    }
   ],
   "source": [
    "myNN(x[1].view(-1,28*28))[0]"
   ]
  },
  {
   "cell_type": "code",
   "execution_count": 334,
   "metadata": {},
   "outputs": [
    {
     "data": {
      "text/plain": [
       "(28, 28)"
      ]
     },
     "execution_count": 334,
     "metadata": {},
     "output_type": "execute_result"
    }
   ],
   "source": [
    "np.array(Image.open(\"mnist_png/testing/tout/accentor_s_000105.png\")).shape"
   ]
  },
  {
   "cell_type": "code",
   "execution_count": 399,
   "metadata": {},
   "outputs": [],
   "source": [
    "for i in test11_loader:\n",
    "    \n",
    "    i=i[0][1][0:1]\n",
    "    break"
   ]
  },
  {
   "cell_type": "code",
   "execution_count": 400,
   "metadata": {},
   "outputs": [
    {
     "name": "stdout",
     "output_type": "stream",
     "text": [
      "torch.Size([50, 3, 28, 28])\n"
     ]
    }
   ],
   "source": [
    "for i in test11_loader:\n",
    "    print(i[0].shape)\n",
    "    break"
   ]
  },
  {
   "cell_type": "code",
   "execution_count": null,
   "metadata": {},
   "outputs": [],
   "source": []
  }
 ],
 "metadata": {
  "kernelspec": {
   "display_name": "Python 3",
   "language": "python",
   "name": "python3"
  },
  "language_info": {
   "codemirror_mode": {
    "name": "ipython",
    "version": 3
   },
   "file_extension": ".py",
   "mimetype": "text/x-python",
   "name": "python",
   "nbconvert_exporter": "python",
   "pygments_lexer": "ipython3",
   "version": "3.8.5"
  }
 },
 "nbformat": 4,
 "nbformat_minor": 4
}
